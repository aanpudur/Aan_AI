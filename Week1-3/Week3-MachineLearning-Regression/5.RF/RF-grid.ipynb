{
 "cells": [
  {
   "cell_type": "code",
   "execution_count": 2,
   "id": "d49a1782-95d6-4c30-86e1-f2d6d6a50b95",
   "metadata": {},
   "outputs": [],
   "source": [
    "#import libraries\n",
    "\n",
    "import pandas as pd \n",
    "import numpy as np\n",
    "from sklearn.model_selection import train_test_split\n",
    "from  sklearn.metrics import r2_score\n",
    "\n"
   ]
  },
  {
   "cell_type": "code",
   "execution_count": 3,
   "id": "2209238d-a75d-4264-8e89-b7c228ae7324",
   "metadata": {},
   "outputs": [
    {
     "data": {
      "text/plain": [
       "Index(['age', 'sex', 'bmi', 'children', 'smoker', 'charges'], dtype='object')"
      ]
     },
     "execution_count": 3,
     "metadata": {},
     "output_type": "execute_result"
    }
   ],
   "source": [
    "#load and read data\n",
    "\n",
    "df = pd.read_csv(\"insurance_pre.csv\")\n",
    "df.columns\n"
   ]
  },
  {
   "cell_type": "code",
   "execution_count": 4,
   "id": "c7bc2009-4f76-4e92-bb5d-b236c89a6ce4",
   "metadata": {},
   "outputs": [
    {
     "name": "stdout",
     "output_type": "stream",
     "text": [
      "   age     bmi  children      charges  sex_male  smoker_yes\n",
      "0   19  27.900         0  16884.92400     False        True\n",
      "1   18  33.770         1   1725.55230      True       False\n",
      "2   28  33.000         3   4449.46200      True       False\n",
      "3   33  22.705         0  21984.47061      True       False\n",
      "4   32  28.880         0   3866.85520      True       False\n"
     ]
    }
   ],
   "source": [
    "#convert categorical data using get_dummies\n",
    "\n",
    "df = pd.get_dummies(df, columns=[\"sex\", \"smoker\"], drop_first=True)\n",
    "\n",
    "print(df.head())  # Check if binary encoding worked\n",
    "\n"
   ]
  },
  {
   "cell_type": "code",
   "execution_count": 5,
   "id": "934b58ad-9cf6-4e14-bd3f-4eac69fd670a",
   "metadata": {},
   "outputs": [
    {
     "name": "stdout",
     "output_type": "stream",
     "text": [
      "   age     bmi  children      charges  sex_male  smoker_yes\n",
      "0   19  27.900         0  16884.92400         0           1\n",
      "1   18  33.770         1   1725.55230         1           0\n",
      "2   28  33.000         3   4449.46200         1           0\n",
      "3   33  22.705         0  21984.47061         1           0\n",
      "4   32  28.880         0   3866.85520         1           0\n"
     ]
    }
   ],
   "source": [
    "df[\"sex_male\"] = df[\"sex_male\"].astype(int)\n",
    "df[\"smoker_yes\"] = df[\"smoker_yes\"].astype(int)\n",
    "print(df.head())"
   ]
  },
  {
   "cell_type": "code",
   "execution_count": 6,
   "id": "1dea7bd3-5e08-438e-be46-f19f59186b56",
   "metadata": {},
   "outputs": [],
   "source": [
    "X = df.drop(columns=['charges'])\n",
    "y = df[\"charges\"]\n",
    "\n",
    "\n",
    "\n"
   ]
  },
  {
   "cell_type": "code",
   "execution_count": 7,
   "id": "1e8cc103-c415-451b-97e0-d56d28304b58",
   "metadata": {},
   "outputs": [
    {
     "data": {
      "text/plain": [
       "0       16884.92400\n",
       "1        1725.55230\n",
       "2        4449.46200\n",
       "3       21984.47061\n",
       "4        3866.85520\n",
       "           ...     \n",
       "1333    10600.54830\n",
       "1334     2205.98080\n",
       "1335     1629.83350\n",
       "1336     2007.94500\n",
       "1337    29141.36030\n",
       "Name: charges, Length: 1338, dtype: float64"
      ]
     },
     "execution_count": 7,
     "metadata": {},
     "output_type": "execute_result"
    }
   ],
   "source": [
    "y"
   ]
  },
  {
   "cell_type": "code",
   "execution_count": 8,
   "id": "8d6cfc09-84f5-4a77-86cb-d02a790cfd48",
   "metadata": {},
   "outputs": [],
   "source": [
    "#split train-test  data\n",
    "\n",
    "X_train, X_test, y_train, y_test = train_test_split(X,y, test_size=0.2, random_state=42)\n",
    "\n"
   ]
  },
  {
   "cell_type": "code",
   "execution_count": 9,
   "id": "f5239aee-0a9f-4b73-b487-bbcbc6e8d9c2",
   "metadata": {},
   "outputs": [
    {
     "name": "stdout",
     "output_type": "stream",
     "text": [
      "Fitting 3 folds for each of 252 candidates, totalling 756 fits\n",
      "Best parameters: {'criterion': 'squared_error', 'max_depth': 4, 'min_samples_leaf': 2, 'n_estimators': 50}\n",
      "Best R² Score from CV: 0.8507467640876353\n",
      "Test R² Score: 0.8732086996305314\n"
     ]
    }
   ],
   "source": [
    "#create SVM and train\n",
    "from sklearn.ensemble import RandomForestRegressor\n",
    "from sklearn.model_selection import GridSearchCV\n",
    "\n",
    "# Initialize Random Forest model\n",
    "\n",
    "param_grid = {\n",
    "    'criterion':['squared_error', 'absolute_error', \"friedman_mse\", \"poisson\" ],\n",
    "    'n_estimators':[50,100,200],\n",
    "    'max_depth': [1,2,3,4,5,6,7],\n",
    "    'min_samples_leaf':[2,3,4],\n",
    "\n",
    "    \n",
    "}\n",
    "\n",
    "grid_search = GridSearchCV(RandomForestRegressor(), param_grid, cv=3, verbose=3, n_jobs=-1)\n",
    "\n",
    "grid_search.fit(X_train, y_train)\n",
    "\n",
    "# Get best parameters\n",
    "print(\"Best parameters:\", grid_search.best_params_)\n",
    "print(\"Best R² Score from CV:\", grid_search.best_score_)\n",
    "\n",
    "# Use the best model for prediction\n",
    "best_model = grid_search.best_estimator_\n",
    "y_pred = best_model.predict(X_test)\n",
    "\n",
    "# Evaluate performance\n",
    "print(\"Test R² Score:\", r2_score(y_test, y_pred))\n",
    "\n",
    "\n",
    "\n",
    "\n",
    "\n",
    "\n",
    "\n",
    "\n",
    "\n",
    "\n"
   ]
  },
  {
   "cell_type": "code",
   "execution_count": null,
   "id": "67e2c82f-a204-44eb-ae50-3bd9b880ae4d",
   "metadata": {},
   "outputs": [],
   "source": []
  }
 ],
 "metadata": {
  "kernelspec": {
   "display_name": "Python [conda env:venv]",
   "language": "python",
   "name": "conda-env-venv-py"
  },
  "language_info": {
   "codemirror_mode": {
    "name": "ipython",
    "version": 3
   },
   "file_extension": ".py",
   "mimetype": "text/x-python",
   "name": "python",
   "nbconvert_exporter": "python",
   "pygments_lexer": "ipython3",
   "version": "3.10.0"
  }
 },
 "nbformat": 4,
 "nbformat_minor": 5
}
