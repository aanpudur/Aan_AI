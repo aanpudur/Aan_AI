{
 "cells": [
  {
   "cell_type": "code",
   "execution_count": 45,
   "id": "d49a1782-95d6-4c30-86e1-f2d6d6a50b95",
   "metadata": {},
   "outputs": [],
   "source": [
    "#import libraries\n",
    "\n",
    "import pandas as pd \n",
    "import numpy as np\n",
    "from sklearn.model_selection import train_test_split\n",
    "from sklearn.linear_model import LinearRegression\n",
    "from  sklearn.metrics import r2_score\n",
    "\n"
   ]
  },
  {
   "cell_type": "code",
   "execution_count": 47,
   "id": "2209238d-a75d-4264-8e89-b7c228ae7324",
   "metadata": {},
   "outputs": [
    {
     "data": {
      "text/plain": [
       "Index(['age', 'sex', 'bmi', 'children', 'smoker', 'charges'], dtype='object')"
      ]
     },
     "execution_count": 47,
     "metadata": {},
     "output_type": "execute_result"
    }
   ],
   "source": [
    "#load and read data\n",
    "\n",
    "df = pd.read_csv(\"insurance_pre.csv\")\n",
    "df.columns\n"
   ]
  },
  {
   "cell_type": "code",
   "execution_count": 49,
   "id": "c7bc2009-4f76-4e92-bb5d-b236c89a6ce4",
   "metadata": {},
   "outputs": [
    {
     "name": "stdout",
     "output_type": "stream",
     "text": [
      "   age     bmi  children      charges  sex_male  smoker_yes\n",
      "0   19  27.900         0  16884.92400     False        True\n",
      "1   18  33.770         1   1725.55230      True       False\n",
      "2   28  33.000         3   4449.46200      True       False\n",
      "3   33  22.705         0  21984.47061      True       False\n",
      "4   32  28.880         0   3866.85520      True       False\n"
     ]
    }
   ],
   "source": [
    "#convert categorical data using get_dummies\n",
    "\n",
    "df = pd.get_dummies(df, columns=[\"sex\", \"smoker\"], drop_first=True)\n",
    "\n",
    "print(df.head())  # Check if binary encoding worked\n",
    "\n"
   ]
  },
  {
   "cell_type": "code",
   "execution_count": 51,
   "id": "934b58ad-9cf6-4e14-bd3f-4eac69fd670a",
   "metadata": {},
   "outputs": [
    {
     "name": "stdout",
     "output_type": "stream",
     "text": [
      "   age     bmi  children      charges  sex_male  smoker_yes\n",
      "0   19  27.900         0  16884.92400         0           1\n",
      "1   18  33.770         1   1725.55230         1           0\n",
      "2   28  33.000         3   4449.46200         1           0\n",
      "3   33  22.705         0  21984.47061         1           0\n",
      "4   32  28.880         0   3866.85520         1           0\n"
     ]
    }
   ],
   "source": [
    "df[\"sex_male\"] = df[\"sex_male\"].astype(int)\n",
    "df[\"smoker_yes\"] = df[\"smoker_yes\"].astype(int)\n",
    "print(df.head())"
   ]
  },
  {
   "cell_type": "code",
   "execution_count": 69,
   "id": "1dea7bd3-5e08-438e-be46-f19f59186b56",
   "metadata": {},
   "outputs": [],
   "source": [
    "X = df.drop(columns=['charges'])\n",
    "y = df[\"charges\"]\n",
    "\n",
    "\n",
    "\n"
   ]
  },
  {
   "cell_type": "code",
   "execution_count": 67,
   "id": "1e8cc103-c415-451b-97e0-d56d28304b58",
   "metadata": {},
   "outputs": [
    {
     "data": {
      "text/plain": [
       "0       16884.92400\n",
       "1        1725.55230\n",
       "2        4449.46200\n",
       "3       21984.47061\n",
       "4        3866.85520\n",
       "           ...     \n",
       "1333    10600.54830\n",
       "1334     2205.98080\n",
       "1335     1629.83350\n",
       "1336     2007.94500\n",
       "1337    29141.36030\n",
       "Name: charges, Length: 1338, dtype: float64"
      ]
     },
     "execution_count": 67,
     "metadata": {},
     "output_type": "execute_result"
    }
   ],
   "source": [
    "y"
   ]
  },
  {
   "cell_type": "code",
   "execution_count": 73,
   "id": "8d6cfc09-84f5-4a77-86cb-d02a790cfd48",
   "metadata": {},
   "outputs": [],
   "source": [
    "#split train-test  data\n",
    "\n",
    "X_train, X_test, y_train, y_test = train_test_split(X,y, test_size=0.2, random_state=42)\n",
    "\n"
   ]
  },
  {
   "cell_type": "code",
   "execution_count": 90,
   "id": "f5239aee-0a9f-4b73-b487-bbcbc6e8d9c2",
   "metadata": {},
   "outputs": [
    {
     "name": "stdout",
     "output_type": "stream",
     "text": [
      "weight aka slope [ 2.57068962e+02  3.27533514e+02  4.27254431e+02 -7.95178837e+00\n",
      "  2.36539033e+04]\n",
      "bias aka origin -12113.451250917087\n"
     ]
    }
   ],
   "source": [
    "#create a simple linear model and train the model\n",
    "\n",
    "model = LinearRegression()\n",
    "model.fit(X_train, y_train)\n",
    "\n",
    "print(\"weight aka slope\", model.coef_) #weight, slope\n",
    "\n",
    "print(\"bias aka origin\", model.intercept_) # bias -  origin )"
   ]
  },
  {
   "cell_type": "code",
   "execution_count": 99,
   "id": "024609a4-e683-4463-84e8-edb43a9f5df1",
   "metadata": {},
   "outputs": [],
   "source": [
    "#make prediction\n",
    "\n",
    "y_pred = model.predict(X_test)\n",
    "\n"
   ]
  },
  {
   "cell_type": "code",
   "execution_count": 101,
   "id": "a7222ce2-d849-49e5-ba3a-e98157b4a6e1",
   "metadata": {
    "scrolled": true
   },
   "outputs": [
    {
     "name": "stdout",
     "output_type": "stream",
     "text": [
      "0.7811302113434095\n"
     ]
    }
   ],
   "source": [
    "r2 = r2_score(y_test, y_pred)\n",
    "print(r2)"
   ]
  },
  {
   "cell_type": "code",
   "execution_count": 105,
   "id": "c8454efa-1e1c-4094-81b9-00f6cd4169c7",
   "metadata": {},
   "outputs": [],
   "source": [
    "from sklearn.metrics import mean_absolute_error, mean_squared_error\n",
    "\n",
    "mae = mean_absolute_error(y_test, y_pred)\n"
   ]
  },
  {
   "cell_type": "code",
   "execution_count": 109,
   "id": "c2493578-2da4-4bcb-aaa4-b1c996d6785a",
   "metadata": {},
   "outputs": [
    {
     "name": "stdout",
     "output_type": "stream",
     "text": [
      "mae 4213.484797807139\n"
     ]
    }
   ],
   "source": [
    "print(\"mae\", mae)"
   ]
  },
  {
   "cell_type": "code",
   "execution_count": null,
   "id": "1a2b53d9-876c-4568-9bfb-aa506bbfda62",
   "metadata": {},
   "outputs": [],
   "source": []
  }
 ],
 "metadata": {
  "kernelspec": {
   "display_name": "Python [conda env:venv]",
   "language": "python",
   "name": "conda-env-venv-py"
  },
  "language_info": {
   "codemirror_mode": {
    "name": "ipython",
    "version": 3
   },
   "file_extension": ".py",
   "mimetype": "text/x-python",
   "name": "python",
   "nbconvert_exporter": "python",
   "pygments_lexer": "ipython3",
   "version": "3.10.0"
  }
 },
 "nbformat": 4,
 "nbformat_minor": 5
}
