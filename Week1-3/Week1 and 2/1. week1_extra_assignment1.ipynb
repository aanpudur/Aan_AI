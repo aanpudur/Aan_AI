{
 "cells": [
  {
   "cell_type": "code",
   "execution_count": null,
   "id": "37091f6b-ad89-4f5c-91d7-7989abf10a1f",
   "metadata": {},
   "outputs": [],
   "source": [
    "#Enter your institute name? : HOPE AI\n",
    "\n",
    "name_input = input(\"Enter your name\")\n",
    "print(f\"Welcome to {name_input}\")"
   ]
  },
  {
   "cell_type": "markdown",
   "id": "f6c450d4",
   "metadata": {},
   "source": [
    "Enter your name: Raj\n",
    "Enter your age: 15\n",
    "Enter your school name: Guru school\n",
    "Enter your drgree: B.E CSE"
   ]
  },
  {
   "cell_type": "code",
   "execution_count": null,
   "id": "c1960f02",
   "metadata": {},
   "outputs": [],
   "source": [
    "student_name = input(\"Enter student name:\")\n",
    "student_age = input(\"Enter student age:\")\n",
    "student_schoolName = input(\"Enter student school name:\")\n",
    "student_education = input(\"Enter student education:\")\n",
    "\n",
    "print(f\"Student name is {student_name}, Student age is {student_age}, Student school name is {student_schoolName}, Student education is {student_education}\")\n"
   ]
  },
  {
   "cell_type": "markdown",
   "id": "267a30c7",
   "metadata": {},
   "source": [
    "a= 43\n",
    "b= 34\n",
    "add = 77"
   ]
  },
  {
   "cell_type": "code",
   "execution_count": 1,
   "id": "134ecf40-d453-4500-99e7-8301d85f511b",
   "metadata": {},
   "outputs": [
    {
     "name": "stdout",
     "output_type": "stream",
     "text": [
      "The sum of 43 and 34 is 77\n"
     ]
    }
   ],
   "source": [
    "a = 43\n",
    "b = 34\n",
    "\n",
    "sum = a + b\n",
    "print(f\"The sum of {a} and {b} is {sum}\")\n"
   ]
  },
  {
   "cell_type": "markdown",
   "id": "fdd01ee0",
   "metadata": {},
   "source": [
    "a= 43\n",
    "b= 34\n",
    "Sub = 9"
   ]
  },
  {
   "cell_type": "code",
   "execution_count": 2,
   "id": "684145fa-bb21-4720-af7f-d3b8c85d7bda",
   "metadata": {},
   "outputs": [
    {
     "name": "stdout",
     "output_type": "stream",
     "text": [
      "The subtraction of 43 and 34 is 9\n"
     ]
    }
   ],
   "source": [
    "a = 43\n",
    "b = 34\n",
    "sub = a - b\n",
    "print(f\"The subtraction of {a} and {b} is {sub}\")"
   ]
  },
  {
   "cell_type": "markdown",
   "id": "b1e2f304",
   "metadata": {},
   "source": [
    "a= 63\n",
    "b= 97\n",
    "Mul = 6111"
   ]
  },
  {
   "cell_type": "code",
   "execution_count": 3,
   "id": "6344ea3c-9dea-429a-9a27-f30eedcbe75f",
   "metadata": {},
   "outputs": [
    {
     "name": "stdout",
     "output_type": "stream",
     "text": [
      "The multiplication of 63 and 97 is 6111\n"
     ]
    }
   ],
   "source": [
    "a = 63\n",
    "b = 97\n",
    "multiply = a * b\n",
    "print(f\"The multiplication of {a} and {b} is {multiply}\")"
   ]
  },
  {
   "cell_type": "markdown",
   "id": "062bfec6",
   "metadata": {},
   "source": [
    "a= 76\n",
    "b= 31\n",
    "Float Div = 2.4516129032258065"
   ]
  },
  {
   "cell_type": "code",
   "execution_count": 4,
   "id": "747e68c8-c124-40e8-978e-f7599b38dd19",
   "metadata": {},
   "outputs": [
    {
     "name": "stdout",
     "output_type": "stream",
     "text": [
      "The division of 76 and 31 is 2.4516129032258065\n"
     ]
    }
   ],
   "source": [
    "a = 76\n",
    "b = 31\n",
    "divide = a / b\n",
    "print(f\"The division of {a} and {b} is {divide}\")"
   ]
  },
  {
   "cell_type": "markdown",
   "id": "5fef573b",
   "metadata": {},
   "source": [
    "a= 76\n",
    "b= 31\n",
    "Floor Div = 2"
   ]
  },
  {
   "cell_type": "code",
   "execution_count": 6,
   "id": "8060ca3a-e5a7-4879-a46f-f2f7d542a370",
   "metadata": {},
   "outputs": [
    {
     "name": "stdout",
     "output_type": "stream",
     "text": [
      "The floor division of 76 and 31 is 2\n"
     ]
    }
   ],
   "source": [
    "a - 76\n",
    "b = 31\n",
    "floor_division = a // b\n",
    "print(f\"The floor division of {a} and {b} is {floor_division}\")\n"
   ]
  },
  {
   "cell_type": "markdown",
   "id": "fd0da7a0",
   "metadata": {},
   "source": [
    "Modulus\n",
    "a= 76\n",
    "b= 31\n",
    "Modulo = 14"
   ]
  },
  {
   "cell_type": "code",
   "execution_count": 7,
   "id": "5e88f136-981b-4f6a-ab57-211d3b968a08",
   "metadata": {},
   "outputs": [
    {
     "name": "stdout",
     "output_type": "stream",
     "text": [
      "The modulus of 76 and 31 is 14\n"
     ]
    }
   ],
   "source": [
    "a = 76\n",
    "b = 31\n",
    "modulus = a % b\n",
    "print(f\"The modulus of {a} and {b} is {modulus}\")"
   ]
  },
  {
   "cell_type": "markdown",
   "id": "ae2dec11",
   "metadata": {},
   "source": [
    "Power\n",
    "\n",
    "a= 4\n",
    "b= 4\n",
    "Power = 256"
   ]
  },
  {
   "cell_type": "code",
   "execution_count": 8,
   "id": "e0896a7c-ace0-4955-9ec2-661190775e4b",
   "metadata": {},
   "outputs": [
    {
     "name": "stdout",
     "output_type": "stream",
     "text": [
      "The exponent of 4 and 4 is 256\n"
     ]
    }
   ],
   "source": [
    "a= 4\n",
    "b = 4\n",
    "exponent = a ** b\n",
    "print(f\"The exponent of {a} and {b} is {exponent}\")\n"
   ]
  },
  {
   "cell_type": "code",
   "execution_count": null,
   "id": "c9887a71-21e5-47bd-ba7a-4937286a12f9",
   "metadata": {},
   "outputs": [],
   "source": []
  }
 ],
 "metadata": {
  "kernelspec": {
   "display_name": "Python 3",
   "language": "python",
   "name": "python3"
  },
  "language_info": {
   "codemirror_mode": {
    "name": "ipython",
    "version": 3
   },
   "file_extension": ".py",
   "mimetype": "text/x-python",
   "name": "python",
   "nbconvert_exporter": "python",
   "pygments_lexer": "ipython3",
   "version": "3.13.1"
  }
 },
 "nbformat": 4,
 "nbformat_minor": 5
}
