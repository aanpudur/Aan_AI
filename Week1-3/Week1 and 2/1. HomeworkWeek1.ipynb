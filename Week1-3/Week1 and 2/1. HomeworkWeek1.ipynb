{
 "cells": [
  {
   "cell_type": "code",
   "execution_count": null,
   "id": "d40571e3-92f9-49ad-91cc-b128109f9594",
   "metadata": {},
   "outputs": [],
   "source": [
    "my_input = input(\"Enter your name\")\n",
    "print(f\"my name is {my_input}\")"
   ]
  },
  {
   "cell_type": "code",
   "execution_count": null,
   "id": "40769625-c5bd-472b-aae5-3a6f87eba10c",
   "metadata": {},
   "outputs": [],
   "source": []
  }
 ],
 "metadata": {
  "kernelspec": {
   "display_name": "Python [conda env:venv]",
   "language": "python",
   "name": "conda-env-venv-py"
  },
  "language_info": {
   "codemirror_mode": {
    "name": "ipython",
    "version": 3
   },
   "file_extension": ".py",
   "mimetype": "text/x-python",
   "name": "python",
   "nbconvert_exporter": "python",
   "pygments_lexer": "ipython3",
   "version": "3.10.0"
  }
 },
 "nbformat": 4,
 "nbformat_minor": 5
}
