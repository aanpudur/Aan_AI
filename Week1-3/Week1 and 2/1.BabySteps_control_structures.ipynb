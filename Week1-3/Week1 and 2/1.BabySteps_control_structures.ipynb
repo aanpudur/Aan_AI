{
 "cells": [
  {
   "cell_type": "markdown",
   "metadata": {},
   "source": [
    "Num1= 10 Num2= 30 Add= 40 [ ]: #Body Mass Index [3]: Enter the BMI Index:34 Very Overweight\n",
    "\n"
   ]
  },
  {
   "cell_type": "code",
   "execution_count": 1,
   "metadata": {},
   "outputs": [
    {
     "name": "stdout",
     "output_type": "stream",
     "text": [
      "Sum of 10 and 30 is 40\n"
     ]
    }
   ],
   "source": [
    "# 1. Get two numbers say 10 and 30 and get the sum of the numbers\n",
    "num1 = 10\n",
    "num2 = 30\n",
    "sum = num1 + num2\n",
    "print(f\"Sum of {num1} and {num2} is {sum}\")"
   ]
  },
  {
   "cell_type": "markdown",
   "metadata": {},
   "source": [
    "BMI calculation:\n",
    "\n",
    "Underweight: BMI less than 18.5\n",
    "\n",
    "Normal Weight: BMI between 18.5 and 24.9\n",
    "\n",
    "Overweight: BMI between 25.0 and 29.9\n",
    "\n",
    "Obesity Class 1: BMI between 30.0 and 34.9\n",
    "\n",
    "Obesity Class 2: BMI between 35.0 and 39.9\n",
    "\n",
    "Obesity Class 3 (Severe Obesity): BMI 40.0 and above\n",
    "\n",
    "The formula to calculate BMI is: BMI = Weight (kg) / [Height (m)]²"
   ]
  },
  {
   "cell_type": "code",
   "execution_count": 2,
   "metadata": {},
   "outputs": [
    {
     "name": "stdout",
     "output_type": "stream",
     "text": [
      "Obesity Class 1\n"
     ]
    }
   ],
   "source": [
    "bmi = float(input(\"Enter the BMI Index:\"))  # Use float for decimal BMI values\n",
    "\n",
    "if bmi < 18.5:\n",
    "    print(\"Underweight\")\n",
    "elif 18.5 <= bmi <= 24.9:  # More concise condition\n",
    "    print(\"Normal Weight\")\n",
    "elif 25 <= bmi <= 29.9:    # More concise condition\n",
    "    print(\"Overweight\")\n",
    "elif 30 <= bmi <= 34.9:    # More concise condition\n",
    "    print(\"Obesity Class 1\")\n",
    "elif 35 <= bmi <= 39.9:    # More concise condition\n",
    "    print(\"Obesity Class 2\")\n",
    "elif bmi >= 40:            # Simplified condition\n",
    "    print(\"Obesity Class 3 (Severe Obesity)\")\n",
    "else:\n",
    "    print(\"Invalid Input\") # This else is now correctly placed"
   ]
  },
  {
   "cell_type": "code",
   "execution_count": null,
   "metadata": {},
   "outputs": [],
   "source": []
  },
  {
   "cell_type": "code",
   "execution_count": null,
   "metadata": {},
   "outputs": [],
   "source": []
  }
 ],
 "metadata": {
  "kernelspec": {
   "display_name": "Python 3",
   "language": "python",
   "name": "python3"
  },
  "language_info": {
   "codemirror_mode": {
    "name": "ipython",
    "version": 3
   },
   "file_extension": ".py",
   "mimetype": "text/x-python",
   "name": "python",
   "nbconvert_exporter": "python",
   "pygments_lexer": "ipython3",
   "version": "3.13.1"
  }
 },
 "nbformat": 4,
 "nbformat_minor": 2
}
